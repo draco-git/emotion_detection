{
 "cells": [
  {
   "cell_type": "code",
   "execution_count": 77,
   "metadata": {},
   "outputs": [],
   "source": [
    "import numpy as np\n",
    "from tensorflow.keras import models,layers,losses,optimizers,initializers,regularizers,constraints\n",
    "from tensorflow.keras import utils,metrics\n",
    "from tensorflow.keras.optimizers import RMSprop,Adam\n",
    "from tensorflow.keras.preprocessing import sequence\n",
    "from tensorflow.keras.preprocessing.text import Tokenizer\n",
    "from tensorflow.keras import callbacks\n",
    "import nltk\n",
    "import re\n",
    "from nltk.stem import WordNetLemmatizer\n",
    "from nltk.corpus import stopwords\n",
    "from tqdm import tqdm"
   ]
  },
  {
   "cell_type": "code",
   "execution_count": 78,
   "metadata": {},
   "outputs": [],
   "source": [
    "#vocabulary in glove file\n",
    "\n",
    "glove_file=open('glove.6B.100d.txt','r',encoding='utf8')\n",
    "vocab_dict=dict()      \n",
    "for line in glove_file:\n",
    "    l = line.split()\n",
    "    words = l[0]\n",
    "    word_vec = np.asarray(l[1:],dtype=np.float32)\n",
    "    vocab_dict[words]=word_vec"
   ]
  },
  {
   "cell_type": "code",
   "execution_count": 79,
   "metadata": {},
   "outputs": [],
   "source": [
    "# processing input file including \n",
    "import random\n",
    "inp=[]\n",
    "with open('input.txt','r') as f:\n",
    "    for l in f:\n",
    "        a=str(l.strip()).lower()\n",
    "        p=re.sub('\\W',' ',a)\n",
    "        inp.append(p)\n",
    "\n",
    "def tokenizer(inp):\n",
    "    token = Tokenizer()\n",
    "    token.fit_on_texts(inp)\n",
    "    inp_seq = token.texts_to_sequences(inp)\n",
    "    return inp_seq,token\n",
    "inp_seq,token=tokenizer(inp)\n",
    "\n",
    "lenths = [len(i) for i in inp_seq]\n",
    "#print(lenths)\n",
    "from statistics import mode\n",
    "max_len = max(lenths)\n",
    "mode_len = mode(lenths)\n",
    "avg_len = np.mean(np.array(lenths)) #22.01816043898615-avg  13-mode  179-max\n",
    "\n",
    "pad_inp = sequence.pad_sequences(inp_seq,maxlen=100,dtype=np.int32,padding='pre',truncating='pre') # len=22\n",
    "vocab_size = len(token.word_index)+1\n",
    "\n",
    "\n",
    "from sklearn.preprocessing import normalize\n",
    "\n",
    "normalized_pad_inp = normalize(pad_inp)\n",
    "#print(pad_inp,normalized_pad_inp)\n",
    "\n"
   ]
  },
  {
   "cell_type": "code",
   "execution_count": 121,
   "metadata": {},
   "outputs": [
    {
     "name": "stdout",
     "output_type": "stream",
     "text": [
      "16000\n"
     ]
    }
   ],
   "source": [
    "# input data from another file\n",
    "stop = stopwords.words('english')\n",
    "new_inp = []\n",
    "new_out = []\n",
    "fin = open('data/train.txt','r')\n",
    "for line in fin:\n",
    "    values = line.split(' ')\n",
    "    new_out.append(values[-1])\n",
    "    x = values[:-1]\n",
    "    x = [i for i in x if i not in stop]\n",
    "    new_inp.append(' '.join(x))\n",
    "fin.close()    \n",
    "new_inp_seq,new_token = tokenizer(new_inp)\n",
    "\n",
    "new_lenths = [len(i) for i in inp_seq]\n",
    "#print(lenths)\n",
    "\n",
    "new_max_len = max(new_lenths)\n",
    "new_mode_len = mode(new_lenths)\n",
    "new_avg_len = np.mean(np.array(new_lenths))\n",
    "\n",
    "new_pad_inp = sequence.pad_sequences(new_inp_seq,maxlen=50,dtype=np.int32,padding='pre',truncating='pre') # len=22\n",
    "new_vocab_size = len(new_token.word_index)+1\n",
    "\n",
    "\n",
    "from sklearn.preprocessing import normalize\n",
    "\n",
    "normalized_pad_inp = normalize(new_pad_inp)\n",
    "print(len(new_out))"
   ]
  },
  {
   "cell_type": "code",
   "execution_count": 115,
   "metadata": {},
   "outputs": [],
   "source": [
    "# embedding matrix\n",
    "\n",
    "embedding_matrix=np.zeros([new_vocab_size,100])\n",
    "for word,i in new_token.word_index.items():\n",
    "    embedding_value = vocab_dict.get(word)\n",
    "    if embedding_value is not None:\n",
    "        embedding_matrix[i] = embedding_value\n"
   ]
  },
  {
   "cell_type": "code",
   "execution_count": null,
   "metadata": {},
   "outputs": [],
   "source": []
  },
  {
   "cell_type": "code",
   "execution_count": 116,
   "metadata": {},
   "outputs": [
    {
     "data": {
      "text/plain": [
       "array([[0, 0, 0, 0, 1, 0, 0],\n",
       "       [0, 0, 1, 0, 0, 0, 0],\n",
       "       [1, 0, 0, 0, 0, 0, 0],\n",
       "       [0, 0, 0, 0, 0, 1, 0],\n",
       "       [0, 1, 0, 0, 0, 0, 0],\n",
       "       [0, 0, 0, 0, 0, 0, 1],\n",
       "       [0, 0, 0, 1, 0, 0, 0],\n",
       "       [0, 0, 0, 0, 1, 0, 0],\n",
       "       [0, 0, 1, 0, 0, 0, 0],\n",
       "       [1, 0, 0, 0, 0, 0, 0]], dtype=uint8)"
      ]
     },
     "execution_count": 116,
     "metadata": {},
     "output_type": "execute_result"
    }
   ],
   "source": [
    "# output \n",
    "\n",
    "import dataem\n",
    "\n",
    "y_out=dataem.out\n",
    "y_out[:10]"
   ]
  },
  {
   "cell_type": "code",
   "execution_count": 122,
   "metadata": {},
   "outputs": [
    {
     "data": {
      "text/plain": [
       "16000"
      ]
     },
     "execution_count": 122,
     "metadata": {},
     "output_type": "execute_result"
    }
   ],
   "source": [
    "#new output\n",
    "\n",
    "import pandas as pd\n",
    "new_out = [i.strip() for i in new_out]\n",
    "new_output = pd.get_dummies(new_out)\n",
    "\n",
    "new_output = np.asarray(new_output)\n",
    "len(new_output)"
   ]
  },
  {
   "cell_type": "code",
   "execution_count": 162,
   "metadata": {},
   "outputs": [
    {
     "name": "stdout",
     "output_type": "stream",
     "text": [
      "WARNING:tensorflow:Large dropout rate: 0.9 (>0.5). In TensorFlow 2.x, dropout() uses dropout rate instead of keep_prob. Please ensure that this is intended.\n",
      "Model: \"sequential_42\"\n",
      "_________________________________________________________________\n",
      "Layer (type)                 Output Shape              Param #   \n",
      "=================================================================\n",
      "embedding_42 (Embedding)     (None, 50, 100)           1506500   \n",
      "_________________________________________________________________\n",
      "conv1d_2 (Conv1D)            (None, 46, 64)            32064     \n",
      "_________________________________________________________________\n",
      "lstm_69 (LSTM)               (None, 128)               98816     \n",
      "_________________________________________________________________\n",
      "dropout_22 (Dropout)         (None, 128)               0         \n",
      "_________________________________________________________________\n",
      "dense_69 (Dense)             (None, 32)                4128      \n",
      "_________________________________________________________________\n",
      "dense_70 (Dense)             (None, 6)                 198       \n",
      "=================================================================\n",
      "Total params: 1,641,706\n",
      "Trainable params: 135,206\n",
      "Non-trainable params: 1,506,500\n",
      "_________________________________________________________________\n"
     ]
    }
   ],
   "source": [
    "# creating model\n",
    "\n",
    "model = models.Sequential()\n",
    "model.add(layers.Embedding(new_vocab_size,100,weights=[embedding_matrix],input_length=50,trainable=False))\n",
    "model.add(layers.Conv1D(64,kernel_size=5,padding='valid'))\n",
    "model.add(layers.LSTM(128,dropout=0.5,recurrent_dropout=0.5))\n",
    "#model.add(layers.LSTM(128))\n",
    "model.add(layers.Dropout(0.9))\n",
    "model.add(layers.Dense(32))\n",
    "model.add(layers.Dense(6,activation='softmax'))\n",
    "\n",
    "model.summary()"
   ]
  },
  {
   "cell_type": "code",
   "execution_count": 163,
   "metadata": {},
   "outputs": [],
   "source": [
    "# compiling model\n",
    "opt = optimizers.Adam(learning_rate=0.0001,beta_2=0.98,beta_1=0.9,epsilon=1e-8)\n",
    "model.compile(optimizer=opt,loss='categorical_crossentropy',metrics=['accuracy'])"
   ]
  },
  {
   "cell_type": "code",
   "execution_count": 164,
   "metadata": {},
   "outputs": [
    {
     "name": "stdout",
     "output_type": "stream",
     "text": [
      "Train on 14400 samples, validate on 1600 samples\n",
      "Epoch 1/50\n",
      "WARNING:tensorflow:Large dropout rate: 0.9 (>0.5). In TensorFlow 2.x, dropout() uses dropout rate instead of keep_prob. Please ensure that this is intended.\n",
      "14400/14400 [==============================] - 43s 3ms/sample - loss: 1.7497 - accuracy: 0.2801 - val_loss: 1.5477 - val_accuracy: 0.3619\n",
      "Epoch 2/50\n",
      "14400/14400 [==============================] - 45s 3ms/sample - loss: 1.6322 - accuracy: 0.3368 - val_loss: 1.5077 - val_accuracy: 0.4025\n",
      "Epoch 3/50\n",
      "14400/14400 [==============================] - 44s 3ms/sample - loss: 1.5657 - accuracy: 0.3849 - val_loss: 1.4590 - val_accuracy: 0.4581\n",
      "Epoch 4/50\n",
      "14400/14400 [==============================] - 45s 3ms/sample - loss: 1.5157 - accuracy: 0.4217 - val_loss: 1.4007 - val_accuracy: 0.4831\n",
      "Epoch 5/50\n",
      "14400/14400 [==============================] - 46s 3ms/sample - loss: 1.4648 - accuracy: 0.4460 - val_loss: 1.3555 - val_accuracy: 0.4938\n",
      "Epoch 6/50\n",
      "14400/14400 [==============================] - 45s 3ms/sample - loss: 1.4218 - accuracy: 0.4687 - val_loss: 1.3312 - val_accuracy: 0.5013\n",
      "Epoch 7/50\n",
      "14400/14400 [==============================] - 45s 3ms/sample - loss: 1.4052 - accuracy: 0.4772 - val_loss: 1.3081 - val_accuracy: 0.5131\n",
      "Epoch 8/50\n",
      "14400/14400 [==============================] - 45s 3ms/sample - loss: 1.3792 - accuracy: 0.4900 - val_loss: 1.2948 - val_accuracy: 0.5206\n",
      "Epoch 9/50\n",
      "14400/14400 [==============================] - 45s 3ms/sample - loss: 1.3653 - accuracy: 0.4930 - val_loss: 1.2815 - val_accuracy: 0.5244\n",
      "Epoch 10/50\n",
      "14400/14400 [==============================] - 44s 3ms/sample - loss: 1.3543 - accuracy: 0.4994 - val_loss: 1.2725 - val_accuracy: 0.5175\n",
      "Epoch 11/50\n",
      "14400/14400 [==============================] - 47s 3ms/sample - loss: 1.3394 - accuracy: 0.5087 - val_loss: 1.2604 - val_accuracy: 0.5319\n",
      "Epoch 12/50\n",
      "14400/14400 [==============================] - 48s 3ms/sample - loss: 1.3175 - accuracy: 0.5094 - val_loss: 1.2444 - val_accuracy: 0.5400\n",
      "Epoch 13/50\n",
      "14400/14400 [==============================] - 45s 3ms/sample - loss: 1.3087 - accuracy: 0.5183 - val_loss: 1.2273 - val_accuracy: 0.5462\n",
      "Epoch 14/50\n",
      "14400/14400 [==============================] - 44s 3ms/sample - loss: 1.2931 - accuracy: 0.5213 - val_loss: 1.2128 - val_accuracy: 0.5512\n",
      "Epoch 15/50\n",
      "14400/14400 [==============================] - 44s 3ms/sample - loss: 1.2830 - accuracy: 0.5277 - val_loss: 1.2000 - val_accuracy: 0.5600\n",
      "Epoch 16/50\n",
      "14400/14400 [==============================] - 45s 3ms/sample - loss: 1.2625 - accuracy: 0.5324 - val_loss: 1.1790 - val_accuracy: 0.5606\n",
      "Epoch 17/50\n",
      "14400/14400 [==============================] - 44s 3ms/sample - loss: 1.2528 - accuracy: 0.5349 - val_loss: 1.1660 - val_accuracy: 0.5556\n",
      "Epoch 18/50\n",
      "14400/14400 [==============================] - 44s 3ms/sample - loss: 1.2352 - accuracy: 0.5412 - val_loss: 1.1450 - val_accuracy: 0.5700\n",
      "Epoch 19/50\n",
      "14400/14400 [==============================] - 45s 3ms/sample - loss: 1.2205 - accuracy: 0.5492 - val_loss: 1.1163 - val_accuracy: 0.5756\n",
      "Epoch 20/50\n",
      "14400/14400 [==============================] - 45s 3ms/sample - loss: 1.1985 - accuracy: 0.5593 - val_loss: 1.0938 - val_accuracy: 0.5881\n",
      "Epoch 21/50\n",
      "14400/14400 [==============================] - 45s 3ms/sample - loss: 1.1803 - accuracy: 0.5659 - val_loss: 1.0729 - val_accuracy: 0.6056\n",
      "Epoch 22/50\n",
      "14400/14400 [==============================] - 44s 3ms/sample - loss: 1.1648 - accuracy: 0.5682 - val_loss: 1.0528 - val_accuracy: 0.6119\n",
      "Epoch 23/50\n",
      "14400/14400 [==============================] - 45s 3ms/sample - loss: 1.1418 - accuracy: 0.5778 - val_loss: 1.0326 - val_accuracy: 0.6144\n",
      "Epoch 24/50\n",
      "14400/14400 [==============================] - 45s 3ms/sample - loss: 1.1267 - accuracy: 0.5878 - val_loss: 1.0168 - val_accuracy: 0.6275\n",
      "Epoch 25/50\n",
      "14400/14400 [==============================] - 45s 3ms/sample - loss: 1.1159 - accuracy: 0.5965 - val_loss: 0.9934 - val_accuracy: 0.6356\n",
      "Epoch 26/50\n",
      "14400/14400 [==============================] - 45s 3ms/sample - loss: 1.1026 - accuracy: 0.5991 - val_loss: 0.9809 - val_accuracy: 0.6394\n",
      "Epoch 27/50\n",
      "14400/14400 [==============================] - 45s 3ms/sample - loss: 1.0841 - accuracy: 0.6030 - val_loss: 0.9622 - val_accuracy: 0.6438\n",
      "Epoch 28/50\n",
      "14400/14400 [==============================] - 44s 3ms/sample - loss: 1.0722 - accuracy: 0.6110 - val_loss: 0.9458 - val_accuracy: 0.6581\n",
      "Epoch 29/50\n",
      "14400/14400 [==============================] - 45s 3ms/sample - loss: 1.0483 - accuracy: 0.6222 - val_loss: 0.9275 - val_accuracy: 0.6575\n",
      "Epoch 30/50\n",
      "14400/14400 [==============================] - 44s 3ms/sample - loss: 1.0417 - accuracy: 0.6293 - val_loss: 0.9140 - val_accuracy: 0.6662\n",
      "Epoch 31/50\n",
      "14400/14400 [==============================] - 44s 3ms/sample - loss: 1.0310 - accuracy: 0.6333 - val_loss: 0.9018 - val_accuracy: 0.6662\n",
      "Epoch 32/50\n",
      "14400/14400 [==============================] - 45s 3ms/sample - loss: 1.0130 - accuracy: 0.6390 - val_loss: 0.8896 - val_accuracy: 0.6731\n",
      "Epoch 33/50\n",
      "14400/14400 [==============================] - 44s 3ms/sample - loss: 0.9942 - accuracy: 0.6431 - val_loss: 0.8733 - val_accuracy: 0.6794\n",
      "Epoch 34/50\n",
      "14400/14400 [==============================] - 44s 3ms/sample - loss: 0.9898 - accuracy: 0.6464 - val_loss: 0.8604 - val_accuracy: 0.6837\n",
      "Epoch 35/50\n",
      "14400/14400 [==============================] - 44s 3ms/sample - loss: 0.9796 - accuracy: 0.6542 - val_loss: 0.8486 - val_accuracy: 0.6900\n",
      "Epoch 36/50\n",
      "14400/14400 [==============================] - 44s 3ms/sample - loss: 0.9607 - accuracy: 0.6568 - val_loss: 0.8373 - val_accuracy: 0.6950\n",
      "Epoch 37/50\n",
      "14400/14400 [==============================] - 44s 3ms/sample - loss: 0.9629 - accuracy: 0.6607 - val_loss: 0.8264 - val_accuracy: 0.6981\n",
      "Epoch 38/50\n",
      "14400/14400 [==============================] - 44s 3ms/sample - loss: 0.9390 - accuracy: 0.6661 - val_loss: 0.8149 - val_accuracy: 0.7006\n",
      "Epoch 39/50\n",
      " 5792/14400 [===========>..................] - ETA: 26s - loss: 0.9141 - accuracy: 0.6753"
     ]
    },
    {
     "ename": "KeyboardInterrupt",
     "evalue": "",
     "output_type": "error",
     "traceback": [
      "\u001b[1;31m---------------------------------------------------------------------------\u001b[0m",
      "\u001b[1;31mKeyboardInterrupt\u001b[0m                         Traceback (most recent call last)",
      "\u001b[1;32m<ipython-input-164-b76555491553>\u001b[0m in \u001b[0;36m<module>\u001b[1;34m\u001b[0m\n\u001b[0;32m      1\u001b[0m \u001b[1;31m# training model\u001b[0m\u001b[1;33m\u001b[0m\u001b[1;33m\u001b[0m\u001b[1;33m\u001b[0m\u001b[0m\n\u001b[0;32m      2\u001b[0m \u001b[0mcallback\u001b[0m \u001b[1;33m=\u001b[0m \u001b[0mcallbacks\u001b[0m\u001b[1;33m.\u001b[0m\u001b[0mEarlyStopping\u001b[0m\u001b[1;33m(\u001b[0m\u001b[0mmonitor\u001b[0m\u001b[1;33m=\u001b[0m\u001b[1;34m'loss'\u001b[0m\u001b[1;33m,\u001b[0m\u001b[0mpatience\u001b[0m\u001b[1;33m=\u001b[0m\u001b[1;36m3\u001b[0m\u001b[1;33m)\u001b[0m\u001b[1;33m\u001b[0m\u001b[1;33m\u001b[0m\u001b[0m\n\u001b[1;32m----> 3\u001b[1;33m \u001b[0mfit\u001b[0m\u001b[1;33m=\u001b[0m\u001b[0mmodel\u001b[0m\u001b[1;33m.\u001b[0m\u001b[0mfit\u001b[0m\u001b[1;33m(\u001b[0m\u001b[0mnew_pad_inp\u001b[0m\u001b[1;33m,\u001b[0m\u001b[0mnew_output\u001b[0m\u001b[1;33m,\u001b[0m\u001b[0mepochs\u001b[0m\u001b[1;33m=\u001b[0m\u001b[1;36m50\u001b[0m\u001b[1;33m,\u001b[0m\u001b[0mbatch_size\u001b[0m\u001b[1;33m=\u001b[0m\u001b[1;36m32\u001b[0m\u001b[1;33m,\u001b[0m\u001b[0mverbose\u001b[0m\u001b[1;33m=\u001b[0m\u001b[1;36m1\u001b[0m\u001b[1;33m,\u001b[0m\u001b[0mvalidation_split\u001b[0m\u001b[1;33m=\u001b[0m\u001b[1;36m0.1\u001b[0m\u001b[1;33m,\u001b[0m\u001b[0mcallbacks\u001b[0m\u001b[1;33m=\u001b[0m\u001b[1;33m[\u001b[0m\u001b[0mcallback\u001b[0m\u001b[1;33m]\u001b[0m\u001b[1;33m)\u001b[0m\u001b[1;33m\u001b[0m\u001b[1;33m\u001b[0m\u001b[0m\n\u001b[0m",
      "\u001b[1;32m~\\AppData\\Roaming\\Python\\Python37\\site-packages\\tensorflow_core\\python\\keras\\engine\\training.py\u001b[0m in \u001b[0;36mfit\u001b[1;34m(self, x, y, batch_size, epochs, verbose, callbacks, validation_split, validation_data, shuffle, class_weight, sample_weight, initial_epoch, steps_per_epoch, validation_steps, validation_freq, max_queue_size, workers, use_multiprocessing, **kwargs)\u001b[0m\n\u001b[0;32m    817\u001b[0m         \u001b[0mmax_queue_size\u001b[0m\u001b[1;33m=\u001b[0m\u001b[0mmax_queue_size\u001b[0m\u001b[1;33m,\u001b[0m\u001b[1;33m\u001b[0m\u001b[1;33m\u001b[0m\u001b[0m\n\u001b[0;32m    818\u001b[0m         \u001b[0mworkers\u001b[0m\u001b[1;33m=\u001b[0m\u001b[0mworkers\u001b[0m\u001b[1;33m,\u001b[0m\u001b[1;33m\u001b[0m\u001b[1;33m\u001b[0m\u001b[0m\n\u001b[1;32m--> 819\u001b[1;33m         use_multiprocessing=use_multiprocessing)\n\u001b[0m\u001b[0;32m    820\u001b[0m \u001b[1;33m\u001b[0m\u001b[0m\n\u001b[0;32m    821\u001b[0m   def evaluate(self,\n",
      "\u001b[1;32m~\\AppData\\Roaming\\Python\\Python37\\site-packages\\tensorflow_core\\python\\keras\\engine\\training_v2.py\u001b[0m in \u001b[0;36mfit\u001b[1;34m(self, model, x, y, batch_size, epochs, verbose, callbacks, validation_split, validation_data, shuffle, class_weight, sample_weight, initial_epoch, steps_per_epoch, validation_steps, validation_freq, max_queue_size, workers, use_multiprocessing, **kwargs)\u001b[0m\n\u001b[0;32m    340\u001b[0m                 \u001b[0mmode\u001b[0m\u001b[1;33m=\u001b[0m\u001b[0mModeKeys\u001b[0m\u001b[1;33m.\u001b[0m\u001b[0mTRAIN\u001b[0m\u001b[1;33m,\u001b[0m\u001b[1;33m\u001b[0m\u001b[1;33m\u001b[0m\u001b[0m\n\u001b[0;32m    341\u001b[0m                 \u001b[0mtraining_context\u001b[0m\u001b[1;33m=\u001b[0m\u001b[0mtraining_context\u001b[0m\u001b[1;33m,\u001b[0m\u001b[1;33m\u001b[0m\u001b[1;33m\u001b[0m\u001b[0m\n\u001b[1;32m--> 342\u001b[1;33m                 total_epochs=epochs)\n\u001b[0m\u001b[0;32m    343\u001b[0m             \u001b[0mcbks\u001b[0m\u001b[1;33m.\u001b[0m\u001b[0mmake_logs\u001b[0m\u001b[1;33m(\u001b[0m\u001b[0mmodel\u001b[0m\u001b[1;33m,\u001b[0m \u001b[0mepoch_logs\u001b[0m\u001b[1;33m,\u001b[0m \u001b[0mtraining_result\u001b[0m\u001b[1;33m,\u001b[0m \u001b[0mModeKeys\u001b[0m\u001b[1;33m.\u001b[0m\u001b[0mTRAIN\u001b[0m\u001b[1;33m)\u001b[0m\u001b[1;33m\u001b[0m\u001b[1;33m\u001b[0m\u001b[0m\n\u001b[0;32m    344\u001b[0m \u001b[1;33m\u001b[0m\u001b[0m\n",
      "\u001b[1;32m~\\AppData\\Roaming\\Python\\Python37\\site-packages\\tensorflow_core\\python\\keras\\engine\\training_v2.py\u001b[0m in \u001b[0;36mrun_one_epoch\u001b[1;34m(model, iterator, execution_function, dataset_size, batch_size, strategy, steps_per_epoch, num_samples, mode, training_context, total_epochs)\u001b[0m\n\u001b[0;32m    126\u001b[0m         step=step, mode=mode, size=current_batch_size) as batch_logs:\n\u001b[0;32m    127\u001b[0m       \u001b[1;32mtry\u001b[0m\u001b[1;33m:\u001b[0m\u001b[1;33m\u001b[0m\u001b[1;33m\u001b[0m\u001b[0m\n\u001b[1;32m--> 128\u001b[1;33m         \u001b[0mbatch_outs\u001b[0m \u001b[1;33m=\u001b[0m \u001b[0mexecution_function\u001b[0m\u001b[1;33m(\u001b[0m\u001b[0miterator\u001b[0m\u001b[1;33m)\u001b[0m\u001b[1;33m\u001b[0m\u001b[1;33m\u001b[0m\u001b[0m\n\u001b[0m\u001b[0;32m    129\u001b[0m       \u001b[1;32mexcept\u001b[0m \u001b[1;33m(\u001b[0m\u001b[0mStopIteration\u001b[0m\u001b[1;33m,\u001b[0m \u001b[0merrors\u001b[0m\u001b[1;33m.\u001b[0m\u001b[0mOutOfRangeError\u001b[0m\u001b[1;33m)\u001b[0m\u001b[1;33m:\u001b[0m\u001b[1;33m\u001b[0m\u001b[1;33m\u001b[0m\u001b[0m\n\u001b[0;32m    130\u001b[0m         \u001b[1;31m# TODO(kaftan): File bug about tf function and errors.OutOfRangeError?\u001b[0m\u001b[1;33m\u001b[0m\u001b[1;33m\u001b[0m\u001b[1;33m\u001b[0m\u001b[0m\n",
      "\u001b[1;32m~\\AppData\\Roaming\\Python\\Python37\\site-packages\\tensorflow_core\\python\\keras\\engine\\training_v2_utils.py\u001b[0m in \u001b[0;36mexecution_function\u001b[1;34m(input_fn)\u001b[0m\n\u001b[0;32m     96\u001b[0m     \u001b[1;31m# `numpy` translates Tensors to values in Eager mode.\u001b[0m\u001b[1;33m\u001b[0m\u001b[1;33m\u001b[0m\u001b[1;33m\u001b[0m\u001b[0m\n\u001b[0;32m     97\u001b[0m     return nest.map_structure(_non_none_constant_value,\n\u001b[1;32m---> 98\u001b[1;33m                               distributed_function(input_fn))\n\u001b[0m\u001b[0;32m     99\u001b[0m \u001b[1;33m\u001b[0m\u001b[0m\n\u001b[0;32m    100\u001b[0m   \u001b[1;32mreturn\u001b[0m \u001b[0mexecution_function\u001b[0m\u001b[1;33m\u001b[0m\u001b[1;33m\u001b[0m\u001b[0m\n",
      "\u001b[1;32m~\\AppData\\Roaming\\Python\\Python37\\site-packages\\tensorflow_core\\python\\eager\\def_function.py\u001b[0m in \u001b[0;36m__call__\u001b[1;34m(self, *args, **kwds)\u001b[0m\n\u001b[0;32m    566\u001b[0m         \u001b[0mxla_context\u001b[0m\u001b[1;33m.\u001b[0m\u001b[0mExit\u001b[0m\u001b[1;33m(\u001b[0m\u001b[1;33m)\u001b[0m\u001b[1;33m\u001b[0m\u001b[1;33m\u001b[0m\u001b[0m\n\u001b[0;32m    567\u001b[0m     \u001b[1;32melse\u001b[0m\u001b[1;33m:\u001b[0m\u001b[1;33m\u001b[0m\u001b[1;33m\u001b[0m\u001b[0m\n\u001b[1;32m--> 568\u001b[1;33m       \u001b[0mresult\u001b[0m \u001b[1;33m=\u001b[0m \u001b[0mself\u001b[0m\u001b[1;33m.\u001b[0m\u001b[0m_call\u001b[0m\u001b[1;33m(\u001b[0m\u001b[1;33m*\u001b[0m\u001b[0margs\u001b[0m\u001b[1;33m,\u001b[0m \u001b[1;33m**\u001b[0m\u001b[0mkwds\u001b[0m\u001b[1;33m)\u001b[0m\u001b[1;33m\u001b[0m\u001b[1;33m\u001b[0m\u001b[0m\n\u001b[0m\u001b[0;32m    569\u001b[0m \u001b[1;33m\u001b[0m\u001b[0m\n\u001b[0;32m    570\u001b[0m     \u001b[1;32mif\u001b[0m \u001b[0mtracing_count\u001b[0m \u001b[1;33m==\u001b[0m \u001b[0mself\u001b[0m\u001b[1;33m.\u001b[0m\u001b[0m_get_tracing_count\u001b[0m\u001b[1;33m(\u001b[0m\u001b[1;33m)\u001b[0m\u001b[1;33m:\u001b[0m\u001b[1;33m\u001b[0m\u001b[1;33m\u001b[0m\u001b[0m\n",
      "\u001b[1;32m~\\AppData\\Roaming\\Python\\Python37\\site-packages\\tensorflow_core\\python\\eager\\def_function.py\u001b[0m in \u001b[0;36m_call\u001b[1;34m(self, *args, **kwds)\u001b[0m\n\u001b[0;32m    597\u001b[0m       \u001b[1;31m# In this case we have created variables on the first call, so we run the\u001b[0m\u001b[1;33m\u001b[0m\u001b[1;33m\u001b[0m\u001b[1;33m\u001b[0m\u001b[0m\n\u001b[0;32m    598\u001b[0m       \u001b[1;31m# defunned version which is guaranteed to never create variables.\u001b[0m\u001b[1;33m\u001b[0m\u001b[1;33m\u001b[0m\u001b[1;33m\u001b[0m\u001b[0m\n\u001b[1;32m--> 599\u001b[1;33m       \u001b[1;32mreturn\u001b[0m \u001b[0mself\u001b[0m\u001b[1;33m.\u001b[0m\u001b[0m_stateless_fn\u001b[0m\u001b[1;33m(\u001b[0m\u001b[1;33m*\u001b[0m\u001b[0margs\u001b[0m\u001b[1;33m,\u001b[0m \u001b[1;33m**\u001b[0m\u001b[0mkwds\u001b[0m\u001b[1;33m)\u001b[0m  \u001b[1;31m# pylint: disable=not-callable\u001b[0m\u001b[1;33m\u001b[0m\u001b[1;33m\u001b[0m\u001b[0m\n\u001b[0m\u001b[0;32m    600\u001b[0m     \u001b[1;32melif\u001b[0m \u001b[0mself\u001b[0m\u001b[1;33m.\u001b[0m\u001b[0m_stateful_fn\u001b[0m \u001b[1;32mis\u001b[0m \u001b[1;32mnot\u001b[0m \u001b[1;32mNone\u001b[0m\u001b[1;33m:\u001b[0m\u001b[1;33m\u001b[0m\u001b[1;33m\u001b[0m\u001b[0m\n\u001b[0;32m    601\u001b[0m       \u001b[1;31m# Release the lock early so that multiple threads can perform the call\u001b[0m\u001b[1;33m\u001b[0m\u001b[1;33m\u001b[0m\u001b[1;33m\u001b[0m\u001b[0m\n",
      "\u001b[1;32m~\\AppData\\Roaming\\Python\\Python37\\site-packages\\tensorflow_core\\python\\eager\\function.py\u001b[0m in \u001b[0;36m__call__\u001b[1;34m(self, *args, **kwargs)\u001b[0m\n\u001b[0;32m   2361\u001b[0m     \u001b[1;32mwith\u001b[0m \u001b[0mself\u001b[0m\u001b[1;33m.\u001b[0m\u001b[0m_lock\u001b[0m\u001b[1;33m:\u001b[0m\u001b[1;33m\u001b[0m\u001b[1;33m\u001b[0m\u001b[0m\n\u001b[0;32m   2362\u001b[0m       \u001b[0mgraph_function\u001b[0m\u001b[1;33m,\u001b[0m \u001b[0margs\u001b[0m\u001b[1;33m,\u001b[0m \u001b[0mkwargs\u001b[0m \u001b[1;33m=\u001b[0m \u001b[0mself\u001b[0m\u001b[1;33m.\u001b[0m\u001b[0m_maybe_define_function\u001b[0m\u001b[1;33m(\u001b[0m\u001b[0margs\u001b[0m\u001b[1;33m,\u001b[0m \u001b[0mkwargs\u001b[0m\u001b[1;33m)\u001b[0m\u001b[1;33m\u001b[0m\u001b[1;33m\u001b[0m\u001b[0m\n\u001b[1;32m-> 2363\u001b[1;33m     \u001b[1;32mreturn\u001b[0m \u001b[0mgraph_function\u001b[0m\u001b[1;33m.\u001b[0m\u001b[0m_filtered_call\u001b[0m\u001b[1;33m(\u001b[0m\u001b[0margs\u001b[0m\u001b[1;33m,\u001b[0m \u001b[0mkwargs\u001b[0m\u001b[1;33m)\u001b[0m  \u001b[1;31m# pylint: disable=protected-access\u001b[0m\u001b[1;33m\u001b[0m\u001b[1;33m\u001b[0m\u001b[0m\n\u001b[0m\u001b[0;32m   2364\u001b[0m \u001b[1;33m\u001b[0m\u001b[0m\n\u001b[0;32m   2365\u001b[0m   \u001b[1;33m@\u001b[0m\u001b[0mproperty\u001b[0m\u001b[1;33m\u001b[0m\u001b[1;33m\u001b[0m\u001b[0m\n",
      "\u001b[1;32m~\\AppData\\Roaming\\Python\\Python37\\site-packages\\tensorflow_core\\python\\eager\\function.py\u001b[0m in \u001b[0;36m_filtered_call\u001b[1;34m(self, args, kwargs)\u001b[0m\n\u001b[0;32m   1609\u001b[0m          if isinstance(t, (ops.Tensor,\n\u001b[0;32m   1610\u001b[0m                            resource_variable_ops.BaseResourceVariable))),\n\u001b[1;32m-> 1611\u001b[1;33m         self.captured_inputs)\n\u001b[0m\u001b[0;32m   1612\u001b[0m \u001b[1;33m\u001b[0m\u001b[0m\n\u001b[0;32m   1613\u001b[0m   \u001b[1;32mdef\u001b[0m \u001b[0m_call_flat\u001b[0m\u001b[1;33m(\u001b[0m\u001b[0mself\u001b[0m\u001b[1;33m,\u001b[0m \u001b[0margs\u001b[0m\u001b[1;33m,\u001b[0m \u001b[0mcaptured_inputs\u001b[0m\u001b[1;33m,\u001b[0m \u001b[0mcancellation_manager\u001b[0m\u001b[1;33m=\u001b[0m\u001b[1;32mNone\u001b[0m\u001b[1;33m)\u001b[0m\u001b[1;33m:\u001b[0m\u001b[1;33m\u001b[0m\u001b[1;33m\u001b[0m\u001b[0m\n",
      "\u001b[1;32m~\\AppData\\Roaming\\Python\\Python37\\site-packages\\tensorflow_core\\python\\eager\\function.py\u001b[0m in \u001b[0;36m_call_flat\u001b[1;34m(self, args, captured_inputs, cancellation_manager)\u001b[0m\n\u001b[0;32m   1690\u001b[0m       \u001b[1;31m# No tape is watching; skip to running the function.\u001b[0m\u001b[1;33m\u001b[0m\u001b[1;33m\u001b[0m\u001b[1;33m\u001b[0m\u001b[0m\n\u001b[0;32m   1691\u001b[0m       return self._build_call_outputs(self._inference_function.call(\n\u001b[1;32m-> 1692\u001b[1;33m           ctx, args, cancellation_manager=cancellation_manager))\n\u001b[0m\u001b[0;32m   1693\u001b[0m     forward_backward = self._select_forward_and_backward_functions(\n\u001b[0;32m   1694\u001b[0m         \u001b[0margs\u001b[0m\u001b[1;33m,\u001b[0m\u001b[1;33m\u001b[0m\u001b[1;33m\u001b[0m\u001b[0m\n",
      "\u001b[1;32m~\\AppData\\Roaming\\Python\\Python37\\site-packages\\tensorflow_core\\python\\eager\\function.py\u001b[0m in \u001b[0;36mcall\u001b[1;34m(self, ctx, args, cancellation_manager)\u001b[0m\n\u001b[0;32m    543\u001b[0m               \u001b[0minputs\u001b[0m\u001b[1;33m=\u001b[0m\u001b[0margs\u001b[0m\u001b[1;33m,\u001b[0m\u001b[1;33m\u001b[0m\u001b[1;33m\u001b[0m\u001b[0m\n\u001b[0;32m    544\u001b[0m               \u001b[0mattrs\u001b[0m\u001b[1;33m=\u001b[0m\u001b[1;33m(\u001b[0m\u001b[1;34m\"executor_type\"\u001b[0m\u001b[1;33m,\u001b[0m \u001b[0mexecutor_type\u001b[0m\u001b[1;33m,\u001b[0m \u001b[1;34m\"config_proto\"\u001b[0m\u001b[1;33m,\u001b[0m \u001b[0mconfig\u001b[0m\u001b[1;33m)\u001b[0m\u001b[1;33m,\u001b[0m\u001b[1;33m\u001b[0m\u001b[1;33m\u001b[0m\u001b[0m\n\u001b[1;32m--> 545\u001b[1;33m               ctx=ctx)\n\u001b[0m\u001b[0;32m    546\u001b[0m         \u001b[1;32melse\u001b[0m\u001b[1;33m:\u001b[0m\u001b[1;33m\u001b[0m\u001b[1;33m\u001b[0m\u001b[0m\n\u001b[0;32m    547\u001b[0m           outputs = execute.execute_with_cancellation(\n",
      "\u001b[1;32m~\\AppData\\Roaming\\Python\\Python37\\site-packages\\tensorflow_core\\python\\eager\\execute.py\u001b[0m in \u001b[0;36mquick_execute\u001b[1;34m(op_name, num_outputs, inputs, attrs, ctx, name)\u001b[0m\n\u001b[0;32m     59\u001b[0m     tensors = pywrap_tensorflow.TFE_Py_Execute(ctx._handle, device_name,\n\u001b[0;32m     60\u001b[0m                                                \u001b[0mop_name\u001b[0m\u001b[1;33m,\u001b[0m \u001b[0minputs\u001b[0m\u001b[1;33m,\u001b[0m \u001b[0mattrs\u001b[0m\u001b[1;33m,\u001b[0m\u001b[1;33m\u001b[0m\u001b[1;33m\u001b[0m\u001b[0m\n\u001b[1;32m---> 61\u001b[1;33m                                                num_outputs)\n\u001b[0m\u001b[0;32m     62\u001b[0m   \u001b[1;32mexcept\u001b[0m \u001b[0mcore\u001b[0m\u001b[1;33m.\u001b[0m\u001b[0m_NotOkStatusException\u001b[0m \u001b[1;32mas\u001b[0m \u001b[0me\u001b[0m\u001b[1;33m:\u001b[0m\u001b[1;33m\u001b[0m\u001b[1;33m\u001b[0m\u001b[0m\n\u001b[0;32m     63\u001b[0m     \u001b[1;32mif\u001b[0m \u001b[0mname\u001b[0m \u001b[1;32mis\u001b[0m \u001b[1;32mnot\u001b[0m \u001b[1;32mNone\u001b[0m\u001b[1;33m:\u001b[0m\u001b[1;33m\u001b[0m\u001b[1;33m\u001b[0m\u001b[0m\n",
      "\u001b[1;31mKeyboardInterrupt\u001b[0m: "
     ]
    }
   ],
   "source": [
    "# training model\n",
    "callback = callbacks.EarlyStopping(monitor='loss',patience=3)\n",
    "fit=model.fit(new_pad_inp,new_output,epochs=50,batch_size=32,verbose=1,validation_split=0.1,callbacks=[callback])"
   ]
  },
  {
   "cell_type": "code",
   "execution_count": 142,
   "metadata": {},
   "outputs": [
    {
     "name": "stdout",
     "output_type": "stream",
     "text": [
      "(2000, 6) 2000\n"
     ]
    }
   ],
   "source": [
    "# testing the model\n",
    "stop = stopwords.words('english')\n",
    "new_test_inp = []\n",
    "new_test_out = []\n",
    "test_fin = open('data/val.txt','r')\n",
    "for line in test_fin:\n",
    "    new_values = line.split(' ')\n",
    "    new_test_out.append(new_values[-1])\n",
    "    y = new_values[:-1]\n",
    "    y = [i for i in y if i not in stop]\n",
    "    new_test_inp.append(' '.join(y))\n",
    "test_fin.close()   \n",
    "\n",
    "\n",
    "new_test_inp_seq,new_test_token = tokenizer(new_test_inp)\n",
    "\n",
    "new_test_pad_inp = sequence.pad_sequences(new_test_inp_seq,maxlen=50,dtype=np.int32,padding='pre',truncating='pre')\n",
    "\n",
    "new_test_out = [i.strip() for i in new_test_out]\n",
    "new_test_output = pd.get_dummies(new_test_out)\n",
    "\n",
    "new_test_output = np.asarray(new_test_output)\n",
    "#acc = model.evaluate(new_test_pad_inp,new_test_output)\n",
    "print(new_test_output.shape,len(new_test_pad_inp))"
   ]
  },
  {
   "cell_type": "code",
   "execution_count": 166,
   "metadata": {},
   "outputs": [
    {
     "name": "stdout",
     "output_type": "stream",
     "text": [
      "2000/2000 [==============================] - 2s 841us/sample - loss: 0.7355 - accuracy: 0.7285\n"
     ]
    }
   ],
   "source": [
    "acc=model.evaluate(pad_inp[:2000],new_output[:2000])"
   ]
  },
  {
   "cell_type": "code",
   "execution_count": 131,
   "metadata": {},
   "outputs": [
    {
     "data": {
      "image/png": "[encoded data removed]",
      "text/plain": [
       "<Figure size 432x288 with 1 Axes>"
      ]
     },
     "metadata": {
      "needs_background": "light"
     },
     "output_type": "display_data"
    }
   ],
   "source": [
    "import matplotlib.pyplot as plt\n",
    "plt.plot(fit.history['accuracy'])\n",
    "plt.plot(fit.history['val_accuracy'])\n",
    "plt.title('model accuracy')\n",
    "plt.ylabel('accuracy')\n",
    "plt.xlabel('epoch')\n",
    "plt.legend(['train', 'test'], loc='upper left')\n",
    "plt.show()"
   ]
  },
  {
   "cell_type": "code",
   "execution_count": 132,
   "metadata": {},
   "outputs": [
    {
     "data": {
      "image/png": "[encoded data removed]",
      "text/plain": [
       "<Figure size 432x288 with 1 Axes>"
      ]
     },
     "metadata": {
      "needs_background": "light"
     },
     "output_type": "display_data"
    }
   ],
   "source": [
    "plt.plot(fit.history['loss'])\n",
    "plt.plot(fit.history['val_loss'])\n",
    "plt.title('model loss')\n",
    "plt.ylabel('loss')\n",
    "plt.xlabel('epoch')\n",
    "plt.legend(['train', 'test'], loc='upper left')\n",
    "plt.show()"
   ]
  },
  {
   "cell_type": "code",
   "execution_count": null,
   "metadata": {},
   "outputs": [],
   "source": []
  }
 ],
 "metadata": {
  "kernelspec": {
   "display_name": "Python 3",
   "language": "python",
   "name": "python3"
  },
  "language_info": {
   "codemirror_mode": {
    "name": "ipython",
    "version": 3
   },
   "file_extension": ".py",
   "mimetype": "text/x-python",
   "name": "python",
   "nbconvert_exporter": "python",
   "pygments_lexer": "ipython3",
   "version": "3.7.6"
  }
 },
 "nbformat": 4,
 "nbformat_minor": 4
}
